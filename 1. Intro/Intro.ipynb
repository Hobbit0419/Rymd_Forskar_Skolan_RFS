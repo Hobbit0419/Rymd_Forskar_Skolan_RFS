{
 "cells": [
  {
   "cell_type": "markdown",
   "metadata": {},
   "source": [
    "# Hej kära elever!\n",
    "\n",
    "Nu börjar det närma sig starten av årets rymdforskar skola. För att detta ska bli så bra som möjligt för er så har vi förberett en liten intro till vad vi kommer hålla på med om dagarna. Det är ju nämligen så att ni förhoppningsvis ska lära er lite saker under dessa två veckorna vi kommer spedera tillsammans, en del av det kommer vara programering. Vi kommer använda oss av programeringsspråket python och en variant av det som heter circuit python. Dessa kommer användas för att få vår dator att göra saker och även för att få små microkontrollers att göra saker. Vi kommer använda oss av arduino MKRZero. \n",
    "\n",
    "I år kommer allting för första gången vara i webläsaren så det kommer funka oavsett vad ni har för dator! Det ni tittar på just nu är en jupyter notebook. Det är en miljö som ofta används inom vetenskapen för att skapa program som är lätta att läsa och köra så just därför kommer vi också använda det. "
   ]
  }
 ],
 "metadata": {
  "language_info": {
   "name": "python"
  }
 },
 "nbformat": 4,
 "nbformat_minor": 2
}
