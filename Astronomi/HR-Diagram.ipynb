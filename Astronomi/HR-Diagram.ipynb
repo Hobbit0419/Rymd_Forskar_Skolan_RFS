{
 "cells": [
  {
   "cell_type": "markdown",
   "metadata": {},
   "source": [
    "# Hur gör man ett HR-diagram i python?\n",
    "\n",
    "För det första så behöver vi data. I den här labben kommer vi använda oss av data från en satellit som heter GAIA. Om du är intresserad kan du läsa mer om GAIA här(https://www.esa.int/Science_Exploration/Space_Science/Gaia). \n",
    "\n",
    "För att skaffa oss lite data så börjar vi med att koppla upp oss mot GAIA databasen."
   ]
  },
  {
   "cell_type": "code",
   "execution_count": 1,
   "metadata": {},
   "outputs": [],
   "source": [
    "#Först börjar vi med att importera alla bibliotek vi behöver. KÖR ALLTID DENNA innan nått annat!!!\n",
    "\n",
    "import numpy as np \n",
    "from matplotlib import pyplot as plt"
   ]
  },
  {
   "cell_type": "code",
   "execution_count": 7,
   "metadata": {},
   "outputs": [
    {
     "data": {
      "text/html": [
       "<div><i>Table length=100000</i>\n",
       "<table id=\"table139830381757152\" class=\"table-striped table-bordered table-condensed\">\n",
       "<thead><tr><th>SOURCE_ID</th><th>ra</th><th>dec</th><th>parallax</th><th>teff_val</th><th>bp_rp</th></tr></thead>\n",
       "<thead><tr><th></th><th>deg</th><th>deg</th><th>mas</th><th>K</th><th>mag</th></tr></thead>\n",
       "<thead><tr><th>int64</th><th>float64</th><th>float64</th><th>float64</th><th>float32</th><th>float32</th></tr></thead>\n",
       "<tr><td>1872310663933163264</td><td>316.29017912676596</td><td>39.34032556762796</td><td>0.41648383588264426</td><td>--</td><td>1.3298492</td></tr>\n",
       "<tr><td>1872301627313597952</td><td>316.0663928615109</td><td>39.13269552494364</td><td>--</td><td>--</td><td>--</td></tr>\n",
       "<tr><td>1872295717436101760</td><td>316.811123596282</td><td>39.61480578802406</td><td>0.47849125837568335</td><td>--</td><td>1.4557533</td></tr>\n",
       "<tr><td>1872290116799150848</td><td>316.4832485091017</td><td>39.526994621801826</td><td>-0.19590512629532267</td><td>--</td><td>1.5353928</td></tr>\n",
       "<tr><td>1872304131274566016</td><td>316.1994840566775</td><td>39.255475963858075</td><td>-0.5550049668057503</td><td>--</td><td>1.3464069</td></tr>\n",
       "<tr><td>1872299015981076864</td><td>316.77062146442324</td><td>39.6771985963875</td><td>0.14119207108131035</td><td>4049.7424</td><td>2.116516</td></tr>\n",
       "<tr><td>1872312759870285824</td><td>316.38034857039116</td><td>39.429539749333166</td><td>-1.119982633415374</td><td>--</td><td>1.5501404</td></tr>\n",
       "<tr><td>1872313133527420032</td><td>316.3629278876118</td><td>39.464472374775276</td><td>0.46600381287013604</td><td>--</td><td>1.3058147</td></tr>\n",
       "<tr><td>1872324785777710336</td><td>315.74797881982084</td><td>39.477705700051196</td><td>-0.5264423709411699</td><td>--</td><td>1.3054676</td></tr>\n",
       "<tr><td>...</td><td>...</td><td>...</td><td>...</td><td>...</td><td>...</td></tr>\n",
       "<tr><td>5836219956676728576</td><td>241.1566484019692</td><td>-56.26588320237082</td><td>1.2973556029262676</td><td>--</td><td>--</td></tr>\n",
       "<tr><td>5836228718416763520</td><td>240.65399516040495</td><td>-56.26875004202561</td><td>0.5831921615932035</td><td>--</td><td>1.8978157</td></tr>\n",
       "<tr><td>5836235143696925568</td><td>240.80847591570657</td><td>-56.12990732495425</td><td>--</td><td>--</td><td>--</td></tr>\n",
       "<tr><td>5836231604636654720</td><td>240.46329594703636</td><td>-56.19582606222391</td><td>0.9370076651539985</td><td>--</td><td>1.5330162</td></tr>\n",
       "<tr><td>5836231153587045760</td><td>240.34178310639305</td><td>-56.255023559382984</td><td>-0.26872573009486206</td><td>--</td><td>1.6110649</td></tr>\n",
       "<tr><td>5836215455548784256</td><td>240.828132915995</td><td>-56.37416646226239</td><td>--</td><td>--</td><td>--</td></tr>\n",
       "<tr><td>5942441846524599040</td><td>246.20871631349482</td><td>-45.76784573770327</td><td>--</td><td>--</td><td>--</td></tr>\n",
       "<tr><td>6725831340024882688</td><td>273.42162845302255</td><td>-39.75777441412747</td><td>-0.020782660539520142</td><td>--</td><td>0.9404335</td></tr>\n",
       "<tr><td>6725836429573680640</td><td>273.5626777604883</td><td>-39.7459099411766</td><td>-0.6689095770658527</td><td>--</td><td>1.4045258</td></tr>\n",
       "<tr><td>6725830622770194816</td><td>273.35884272351143</td><td>-39.83830359080559</td><td>--</td><td>--</td><td>--</td></tr>\n",
       "</table></div>"
      ],
      "text/plain": [
       "<Table length=100000>\n",
       "     SOURCE_ID              ra         ...  teff_val   bp_rp  \n",
       "                           deg         ...     K        mag   \n",
       "       int64             float64       ...  float32   float32 \n",
       "------------------- ------------------ ... --------- ---------\n",
       "1872310663933163264 316.29017912676596 ...        -- 1.3298492\n",
       "1872301627313597952  316.0663928615109 ...        --        --\n",
       "1872295717436101760   316.811123596282 ...        -- 1.4557533\n",
       "1872290116799150848  316.4832485091017 ...        -- 1.5353928\n",
       "1872304131274566016  316.1994840566775 ...        -- 1.3464069\n",
       "1872299015981076864 316.77062146442324 ... 4049.7424  2.116516\n",
       "1872312759870285824 316.38034857039116 ...        -- 1.5501404\n",
       "1872313133527420032  316.3629278876118 ...        -- 1.3058147\n",
       "1872324785777710336 315.74797881982084 ...        -- 1.3054676\n",
       "                ...                ... ...       ...       ...\n",
       "5836219956676728576  241.1566484019692 ...        --        --\n",
       "5836228718416763520 240.65399516040495 ...        -- 1.8978157\n",
       "5836235143696925568 240.80847591570657 ...        --        --\n",
       "5836231604636654720 240.46329594703636 ...        -- 1.5330162\n",
       "5836231153587045760 240.34178310639305 ...        -- 1.6110649\n",
       "5836215455548784256   240.828132915995 ...        --        --\n",
       "5942441846524599040 246.20871631349482 ...        --        --\n",
       "6725831340024882688 273.42162845302255 ...        -- 0.9404335\n",
       "6725836429573680640  273.5626777604883 ...        -- 1.4045258\n",
       "6725830622770194816 273.35884272351143 ...        --        --"
      ]
     },
     "execution_count": 7,
     "metadata": {},
     "output_type": "execute_result"
    }
   ],
   "source": [
    "from astroquery.gaia import Gaia\n",
    "\n",
    "q_test = \"\"\"\n",
    "SELECT\n",
    "TOP 100000\n",
    "source_id, ra, dec, parallax, teff_val, bp_rp\n",
    "FROM gaiadr2.gaia_source\n",
    "\"\"\"\n",
    "job = Gaia.launch_job(q_test)\n",
    "\n",
    "results = job.get_results()\n",
    "\n",
    "results"
   ]
  }
 ],
 "metadata": {
  "kernelspec": {
   "display_name": ".venv",
   "language": "python",
   "name": "python3"
  },
  "language_info": {
   "codemirror_mode": {
    "name": "ipython",
    "version": 3
   },
   "file_extension": ".py",
   "mimetype": "text/x-python",
   "name": "python",
   "nbconvert_exporter": "python",
   "pygments_lexer": "ipython3",
   "version": "3.10.12"
  }
 },
 "nbformat": 4,
 "nbformat_minor": 2
}
