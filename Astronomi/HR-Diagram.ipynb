{
 "cells": [
  {
   "cell_type": "markdown",
   "metadata": {},
   "source": [
    "# Hur gör man ett HR-diagram i python?\n",
    "\n",
    "För det första så behöver vi data. I den här labben kommer vi använda oss av data från en satellit som heter GAIA. Om du är intresserad kan du läsa mer om GAIA här(https://www.esa.int/Science_Exploration/Space_Science/Gaia). För att kunna göra sökningar i GAIAs databas måste vi veta vad dom olika parametrarna heter, dessa kan vi hitta här(https://gea.esac.esa.int/archive/) om man klickar på search och sedan advanced kan vi få fram en lista över alla olika datatabeller som finns. Vi kommer använda oss av den som heter gaiadr3.gaia_source_lite. Klicka på det lilla pluset som finns så får ni upp alla columner som finns att söka på där. Leta upp vilka kolumner ni vill ha och skriv ner vad dom heter så ni har det till senare. Nu ska vi börja med lite kod, för att kunna komma åt GAIA databasen från python måste vi importera GAIA modulen från astroquuery, vi behöver också lite saker för att kunna plocka fram koordinater och för att plotta saker så vi importerar detta. "
   ]
  },
  {
   "cell_type": "code",
   "execution_count": 2,
   "metadata": {},
   "outputs": [],
   "source": [
    "import numpy as np\n",
    "from astroquery.gaia import Gaia\n",
    "from astropy.coordinates import SkyCoord\n",
    "import matplotlib.pyplot as plt"
   ]
  },
  {
   "cell_type": "markdown",
   "metadata": {},
   "source": [
    "För att plocka fram koordinaterna för ett objekt kan ni antingen använda SIMBAD som ni gjorde i förra astronomilabben eller så kan ni använda den inbyggda funktionen i astropy som finns nedan."
   ]
  },
  {
   "cell_type": "code",
   "execution_count": 3,
   "metadata": {},
   "outputs": [
    {
     "data": {
      "text/plain": [
       "<SkyCoord (ICRS): (ra, dec) in deg\n",
       "    (323.362583, -0.82325)>"
      ]
     },
     "execution_count": 3,
     "metadata": {},
     "output_type": "execute_result"
    }
   ],
   "source": [
    "koordinater = SkyCoord.from_name('M2')#Skriv in namnet på er stjärnhop här och se om ni får ut rätt koordinater\n",
    "\n",
    "koordinater"
   ]
  },
  {
   "cell_type": "markdown",
   "metadata": {},
   "source": [
    "Sedan behöver vi skriva en Query till databasen, det är typ som en google sökning fast lite mer avancerad. GAIA databasen kan man söka i eller querya med ett språk som heter ADQL eller astronomical query language, detta är en variant av SQL för den som vet vad det är. Så det vi gör är att vi skriver en lång sträng i python som vi sedan skickar över till databasen som en sökning nedan kan ni se en mall för hur er query bör se ut. "
   ]
  },
  {
   "cell_type": "markdown",
   "metadata": {},
   "source": [
    "SELECT *Här skriver ni vilka columner ni vill ha* \\\n",
    "FROM gaiadr3.gaia_source_lite *Här väljer vi vilken tabell vi ska söka i* \\\n",
    "WHERE DISTANCE(323.4, -0.82, ra, dec) < 10 *Här väljer vi kring vilken punkt vi söker och hur stort område vi söker i. Områdets storlek anges i grader* \\\n",
    "AND parallax > 0 *Här filtrerar vi bort alla datapunkter med parallax mindre än 0*\\\n",
    "AND 1000/parallax > 200 *Här kan vi filtrera på avstånd i parsec*\\\n",
    "AND ..."
   ]
  },
  {
   "cell_type": "markdown",
   "metadata": {},
   "source": [
    "För att se till att den datan ni får är av bra kvalite och med små fel så finns där för varje kolumn ni väljer att hämta en kolumn som heter ..._over_error i den kolumnen har vi mätvärdet dividerat med felet i mätvärdet dessa kan ni använda för att filtrera bort datapunkter med stora mätfel.\n",
    "\n",
    "För att sedan skicka queryn till GAIA database använder vi nedan kod"
   ]
  },
  {
   "cell_type": "code",
   "execution_count": 4,
   "metadata": {},
   "outputs": [
    {
     "name": "stdout",
     "output_type": "stream",
     "text": [
      "INFO: Query finished. [astroquery.utils.tap.core]\n"
     ]
    },
    {
     "data": {
      "text/html": [
       "<div><i>Table length=394800</i>\n",
       "<table id=\"table129128528194016\" class=\"table-striped table-bordered table-condensed\">\n",
       "<thead><tr><th>abs_mag</th><th>bp_rp</th></tr></thead>\n",
       "<thead><tr><th></th><th>mag</th></tr></thead>\n",
       "<thead><tr><th>float64</th><th>float32</th></tr></thead>\n",
       "<tr><td>11.113064333628381</td><td>2.8172817</td></tr>\n",
       "<tr><td>6.184602130655341</td><td>1.1759014</td></tr>\n",
       "<tr><td>4.136629142072916</td><td>0.84285927</td></tr>\n",
       "<tr><td>8.236208335192728</td><td>1.9636898</td></tr>\n",
       "<tr><td>4.210872430969744</td><td>0.8064375</td></tr>\n",
       "<tr><td>4.480317294468346</td><td>0.8308258</td></tr>\n",
       "<tr><td>7.093319490893979</td><td>1.3679495</td></tr>\n",
       "<tr><td>0.6956708995773404</td><td>1.3487482</td></tr>\n",
       "<tr><td>3.674156404081554</td><td>0.89794254</td></tr>\n",
       "<tr><td>...</td><td>...</td></tr>\n",
       "<tr><td>7.617244063616836</td><td>1.6236105</td></tr>\n",
       "<tr><td>3.667095331578416</td><td>0.63689804</td></tr>\n",
       "<tr><td>1.7129630747571163</td><td>1.2976456</td></tr>\n",
       "<tr><td>8.235233695717238</td><td>1.5095282</td></tr>\n",
       "<tr><td>9.381321056688584</td><td>2.3389282</td></tr>\n",
       "<tr><td>6.790673219151165</td><td>1.3415766</td></tr>\n",
       "<tr><td>8.40753766661723</td><td>2.1188927</td></tr>\n",
       "<tr><td>9.773732873670715</td><td>2.5580692</td></tr>\n",
       "<tr><td>10.729136743423865</td><td>2.8578777</td></tr>\n",
       "<tr><td>4.652713471926017</td><td>0.8205528</td></tr>\n",
       "</table></div>"
      ],
      "text/plain": [
       "<Table length=394800>\n",
       "     abs_mag         bp_rp   \n",
       "                      mag    \n",
       "     float64        float32  \n",
       "------------------ ----------\n",
       "11.113064333628381  2.8172817\n",
       " 6.184602130655341  1.1759014\n",
       " 4.136629142072916 0.84285927\n",
       " 8.236208335192728  1.9636898\n",
       " 4.210872430969744  0.8064375\n",
       " 4.480317294468346  0.8308258\n",
       " 7.093319490893979  1.3679495\n",
       "0.6956708995773404  1.3487482\n",
       " 3.674156404081554 0.89794254\n",
       "               ...        ...\n",
       " 7.617244063616836  1.6236105\n",
       " 3.667095331578416 0.63689804\n",
       "1.7129630747571163  1.2976456\n",
       " 8.235233695717238  1.5095282\n",
       " 9.381321056688584  2.3389282\n",
       " 6.790673219151165  1.3415766\n",
       "  8.40753766661723  2.1188927\n",
       " 9.773732873670715  2.5580692\n",
       "10.729136743423865  2.8578777\n",
       " 4.652713471926017  0.8205528"
      ]
     },
     "execution_count": 4,
     "metadata": {},
     "output_type": "execute_result"
    }
   ],
   "source": [
    "query = '''\n",
    "\n",
    "'''\n",
    "\n",
    "job = Gaia.launch_job_async(query)#skickar till databasen\n",
    "\n",
    "results = job.get_results()#Hämtar hem resultaten\n",
    "\n",
    "results#visar resultaten"
   ]
  },
  {
   "cell_type": "markdown",
   "metadata": {},
   "source": [
    "För att göra matte med data i en enskild kolumn kan ni skriva kod på formatet nedan. Numpy kan också användas för mer avancerad matte om ni behöver."
   ]
  },
  {
   "cell_type": "code",
   "execution_count": null,
   "metadata": {},
   "outputs": [],
   "source": [
    "results['kolumn namn'] = results['kolumn namn'] * 3 - 5"
   ]
  },
  {
   "cell_type": "markdown",
   "metadata": {},
   "source": [
    "När ni har datan på rätt format och i rätt enheter m.m så kan ni börja plotta upp era HR-diagram. För detta kan ni använda pyplot."
   ]
  },
  {
   "cell_type": "code",
   "execution_count": null,
   "metadata": {},
   "outputs": [],
   "source": [
    "from matplotlib import colors\n",
    "\n",
    "fig, ax = plt.subplots()#Skapar ett figur och axel objekt \n",
    "\n",
    "h = ax.hist2d(temp, magnitud, bins=300, cmin=10, norm=colors.PowerNorm(0.5), zorder=0.5)#Här skapar vi ett 2d histogram för att vi ska kunna se densiteten av stjärnor\n",
    "\n",
    "ax.scatter(temperatur, magnitud, alpha=0.05, s=1, color='k', zorder=0)#Här plottar vi upp varje stjärna som en punkt\n",
    "ax.invert_yaxis()\n",
    "\n",
    "cb = fig.colorbar(h[3], ax=ax, pad=0.02)#ritar en colorbar \n",
    "\n",
    "ax.set_xlabel()#Axel titlar\n",
    "ax.set_ylabel()\n",
    "cb.set_label()\n",
    "\n",
    "plt.show()"
   ]
  }
 ],
 "metadata": {
  "kernelspec": {
   "display_name": ".venv",
   "language": "python",
   "name": "python3"
  },
  "language_info": {
   "codemirror_mode": {
    "name": "ipython",
    "version": 3
   },
   "file_extension": ".py",
   "mimetype": "text/x-python",
   "name": "python",
   "nbconvert_exporter": "python",
   "pygments_lexer": "ipython3",
   "version": "3.10.12"
  }
 },
 "nbformat": 4,
 "nbformat_minor": 2
}
