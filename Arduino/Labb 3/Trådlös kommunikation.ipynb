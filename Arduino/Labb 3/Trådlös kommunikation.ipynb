{
 "cells": [
  {
   "cell_type": "code",
   "execution_count": null,
   "metadata": {},
   "outputs": [],
   "source": [
    "#Transmit test\n",
    "\n",
    "import board\n",
    "import busio\n",
    "import digitalio\n",
    "import adafruit_rfm9x\n",
    "\n",
    "spi = busio.SPI(board.SCK, MOSI=board.MOSI, MISO=board.MISO)\n",
    "cs = digitalio.DigitalInOut(board.D5)\n",
    "reset = digitalio.DigitalInOut(board.D4)\n",
    "rfm9x = adafruit_rfm9x.RFM9x(spi, cs, reset, 433.0)\n",
    "\n",
    "while True:\n",
    "    rfm9x.send('Hello')"
   ]
  },
  {
   "cell_type": "code",
   "execution_count": null,
   "metadata": {},
   "outputs": [],
   "source": [
    "#Receive test\n",
    "\n",
    "import board\n",
    "import busio\n",
    "import digitalio\n",
    "import adafruit_rfm9x\n",
    "\n",
    "spi = busio.SPI(board.SCK, MOSI=board.MOSI, MISO=board.MISO)\n",
    "cs = digitalio.DigitalInOut(board.D5)\n",
    "reset = digitalio.DigitalInOut(board.D4)\n",
    "rfm9x = adafruit_rfm9x.RFM9x(spi, cs, reset, 433.0)\n",
    "\n",
    "while True:\n",
    "    print(rfm9x.recive(timeout=2.0))\n",
    "    "
   ]
  }
 ],
 "metadata": {
  "language_info": {
   "name": "python"
  }
 },
 "nbformat": 4,
 "nbformat_minor": 2
}
