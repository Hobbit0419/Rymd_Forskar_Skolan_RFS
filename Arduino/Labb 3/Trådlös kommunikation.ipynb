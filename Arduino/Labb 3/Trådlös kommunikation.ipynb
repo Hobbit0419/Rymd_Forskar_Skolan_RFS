{
 "cells": [
  {
   "cell_type": "markdown",
   "metadata": {},
   "source": [
    "# Introduktion\n",
    "I denna labb ska ni få testa på något som ni egentligen använder varje dag. Vi ska prova på lite trådlös kommunikation, ni kommer använda er av ett radiokommunikations protokoll som heter LoRa(wikipedia:https://en.wikipedia.org/wiki/LoRa). Det är ett protokoll som är ganska vanligt i hobbyvärlden egentligen mest för att det använder frekvenser och effekter som gör det lagligt att använda det utan licens. I denna labben kommer vi använda oss av våra kära arduino MKRZero samt ett annat mikrokontroller kort som heter feather M0. Feather M0 har nämligen en LoRa radio inbyggd. Vi ska börja med att koppla ihop en arduino en en rfm9x modul.\n",
    "\n",
    "%lägg in bild\n",
    "\n",
    "Vi kommer använda arduinon och rfm9x modulen som transmitter och feather M0 som reciver. "
   ]
  },
  {
   "cell_type": "code",
   "execution_count": null,
   "metadata": {},
   "outputs": [],
   "source": [
    "#Transmit test\n",
    "\n",
    "import board\n",
    "import busio\n",
    "import digitalio\n",
    "import adafruit_rfm9x\n",
    "\n",
    "spi = busio.SPI(board.SCK, MOSI=board.MOSI, MISO=board.MISO)\n",
    "cs = digitalio.DigitalInOut(board.D5)\n",
    "reset = digitalio.DigitalInOut(board.D4)\n",
    "rfm9x = adafruit_rfm9x.RFM9x(spi, cs, reset, 433.0)\n",
    "\n",
    "while True:\n",
    "    rfm9x.send('Hello')"
   ]
  },
  {
   "cell_type": "code",
   "execution_count": null,
   "metadata": {},
   "outputs": [],
   "source": [
    "#Receive test\n",
    "\n",
    "import board\n",
    "import busio\n",
    "import digitalio\n",
    "import adafruit_rfm9x\n",
    "\n",
    "spi = busio.SPI(board.SCK, MOSI=board.MOSI, MISO=board.MISO)\n",
    "cs = digitalio.DigitalInOut(board.D5)\n",
    "reset = digitalio.DigitalInOut(board.D4)\n",
    "rfm9x = adafruit_rfm9x.RFM9x(spi, cs, reset, 433.0)\n",
    "\n",
    "while True:\n",
    "    print(rfm9x.recive())\n",
    "    "
   ]
  },
  {
   "cell_type": "markdown",
   "metadata": {},
   "source": [
    "## Uppgift 1: Tända en lampa trådlöst"
   ]
  },
  {
   "cell_type": "markdown",
   "metadata": {},
   "source": [
    "## Uppgift 2: Trådlös sensor data"
   ]
  },
  {
   "cell_type": "markdown",
   "metadata": {},
   "source": [
    "## Bonus: Live plot"
   ]
  }
 ],
 "metadata": {
  "language_info": {
   "name": "python"
  }
 },
 "nbformat": 4,
 "nbformat_minor": 2
}
