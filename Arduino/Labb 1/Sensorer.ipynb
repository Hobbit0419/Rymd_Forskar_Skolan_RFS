{
 "cells": [
  {
   "cell_type": "markdown",
   "metadata": {},
   "source": [
    "# Introduktion\n",
    "\n",
    "Nu är det dags att skapa ett fungerande system som mäter ett fysiskt värde och sedan visar det på skärmen. Det mesta ni har runt omkring er, om det så handlar om något vardagligt som mobiltelefoner eller något rymdigt som satelliter, så består många tekniska apparater av sensorer som känner eller mäter ett fysiskt värde. Detta omvandlas sedan till signaler, för att kunna tolkas och behandlas i en mikroprocessor. Ni kommer nu att mäta fukt, temperatur och acceleration i flera riktningar som ni sedan med hjälp av mjukvara skriver ut. För att underlätta med programmeringen så kommer vi nu även introducera så kallade bibliotek.\n",
    "\n",
    "## Vad är bibliotek för något?\n",
    "Vi har reda sett dom lite innan men vad gör egentligen dom där import statementsen i början av vår kod? Dom importerar bibliotek och vad är då det? Ett bibliotek är vad man kallar en samling av funktioner som någon annan redan skrivit. På detta sätt slipper man göra lika mycket arbete och inte heller oroa sig för de mer tekniska delarna av ett program. Ifall du exempelvis skulle vilja avläsa värdena från någon sensor så finns det kanske en funktion read_sensor() som du kan använda istället för att själv behöva lista ut hur du ska kommunicera med sensorn helt manuellt. Hur använder man då bibliotek? Jo, för att inkludera någon annans kod skriver man såhär i början av sin egen fil:"
   ]
  },
  {
   "cell_type": "code",
   "execution_count": null,
   "metadata": {},
   "outputs": [],
   "source": [
    "import numpy"
   ]
  },
  {
   "cell_type": "markdown",
   "metadata": {},
   "source": [
    "För er så kommer alla bibliotek ni skulle kunna behöva finnas förinstallerade antingen på arduinon eller i jupyter notebooken ni skriver python i. \n",
    "\n",
    "## Läsa data från sensorer\n",
    "Nu ska vi faktiskt komma igång med att läsa data från sensorer. Vi kommer börja med en temperatur och fuktsensor som heter DHT11.\n",
    "\n",
    "![DHT11](figures/dht11.png)\n",
    "\n",
    "Den ska kopplas in enligt följande tabell,\n",
    "\n",
    "| Arduino pin | Sensor pin |\n",
    "|-------------|------------|\n",
    "|      GND    |     GND    |\n",
    "|      VCC    |     VCC    |\n",
    "| Vilken som helst t.ex 2   |   Signal   |\n",
    "\n",
    "Det kan se ut t.ex så här\n",
    "\n",
    "![dht11schematic](figures/dht11schematic.png)\n",
    "\n",
    "Sen behöver vi lite kod för att faktiskt kunna läsa av sensorn."
   ]
  },
  {
   "cell_type": "code",
   "execution_count": null,
   "metadata": {},
   "outputs": [],
   "source": [
    "import time\n",
    "import board\n",
    "import adafruit_dht\n",
    "\n",
    "dhtDevice = adafruit_dht.DHT11(board.D2) #Skapar en variabel för sensorn och berättar vart den finns\n",
    "\n",
    "while True:\n",
    "        \n",
    "    temperature_c = dhtDevice.temperature #Läser av temperaturvärdet\n",
    "    humidity = dhtDevice.humidity #Läser av luftfuktigheten\n",
    "    print(f'Det är {temperature_c} grader och luftfuktigheten är {humidity}%')#Skriver ut värden\n",
    "        \n",
    "    time.sleep(2)"
   ]
  },
  {
   "cell_type": "markdown",
   "metadata": {},
   "source": [
    "## Uppgift 1: Kör koden\n",
    "\n",
    "Första uppgiften är att se om min kod fungerar. Får ni några värden? Hur varmt är det?\n",
    "\n",
    "## Uppgift 2: Andra enheter?\n",
    "\n",
    "Skriv om koden ovan så att ni får temperaturen i Celsius, Farenheit och Kelvin.\n",
    "\n",
    "Tips:\n",
    "\n",
    "$F = (C \\cdot 1,8) + 32$\n",
    "\n",
    "$K = C + 273,15$\n",
    "\n",
    "## Uppgift 3: Blås!!\n",
    "\n",
    "Blås på sensorn och se vad som händer. Vad händer med temperaturen och med luftfuktigheten? Varför blir det så?"
   ]
  },
  {
   "cell_type": "markdown",
   "metadata": {},
   "source": [
    "Nu till nått som är lite roligare, acceleration. Nu ska ni få prova på att använda en accelerometer med er arduino. Ni ska få använda en ADXL345. \n",
    "\n",
    "<img src=\"figures/adxl345.png\" alt=\"drawing\" style=\"width:300px;\"/>\n",
    "\n",
    "Börja med att koppla ihop sensorn och arduinon enligt tabellen.\n",
    "\n",
    "| Arduino pin | Sensor pin |\n",
    "|-------------|------------|\n",
    "|      GND    |     GND    |\n",
    "|      VCC    |     VCC    |\n",
    "|      SDA    |     SDA    |\n",
    "|      SCL    |     SCL    |\n",
    "\n",
    "Det kan se ut lite såhär\n",
    "\n",
    "![adxl345schematic](figures/ADXL345schematic.png)\n",
    "\n",
    "Sen ska vi ha lite kod."
   ]
  },
  {
   "cell_type": "code",
   "execution_count": null,
   "metadata": {},
   "outputs": [],
   "source": [
    "import time\n",
    "import board\n",
    "import adafruit_adxl34x\n",
    "\n",
    "i2c = board.I2C()  \n",
    "accelerometer = adafruit_adxl34x.ADXL345(i2c)\n",
    "\n",
    "while True:\n",
    "    print(f'accelerationen är:{accelerometer.acceleration}')\n",
    "    time.sleep(0.2)"
   ]
  },
  {
   "cell_type": "markdown",
   "metadata": {},
   "source": [
    "## Uppgift 1: Kör koden!\n",
    "Även denna gången ska ni testa koden. Vad får ni för värden? Hur ser printouten ut? Är värdena rimliga?\n",
    "\n",
    "## Uppgift 2: Shake\n",
    "Lyft och skaka lite försiktigt på sensorn, vad händer med värdena?"
   ]
  },
  {
   "cell_type": "markdown",
   "metadata": {},
   "source": [
    "# Bonus!\n",
    "\n",
    "## ADXL345\n",
    "Ibland vill man veta hur stor total acceleration (eller g-krafter) som accelerometern uppmäter. Hur kan man gå tillväga för att beräkna den totala kombinerade accelerationen från alla tre riktningar?\n",
    "Skriv en funktion som beräknar och skriver ut den totala accelerationen i monitorn! Får du rimliga värden?\n",
    "\n",
    "## DHT11\n",
    "Det finns en ekvation som kallas för ideala gaslagen som beskriver hur tryck, densitet och temperatur hänger samman hos en gas. En formulering av lagen för luft nära havsytan är $N = \\frac{C}{T}$ där $N$ är antalet partiklar per kubikmeter, $C = 7.338941027\\cdot 10^{27} Km^{-3}$ är en konstant och $T$ är luftens temperatur i grader kelvin (en grad kelvin motsvarar en grad celsius, men i kelvin-skalan smälter is vid 273.15 grader). \n",
    "Använd ekvationen för att bestämma partikeldensiteten av luft och uppskatta hur många partiklar som finns i en tom (luftfylld) 33 cl läskburk.\n",
    "\n"
   ]
  }
 ],
 "metadata": {
  "kernelspec": {
   "display_name": ".venv",
   "language": "python",
   "name": "python3"
  },
  "language_info": {
   "codemirror_mode": {
    "name": "ipython",
    "version": 3
   },
   "file_extension": ".py",
   "mimetype": "text/x-python",
   "name": "python",
   "nbconvert_exporter": "python",
   "pygments_lexer": "ipython3",
   "version": "3.10.12"
  }
 },
 "nbformat": 4,
 "nbformat_minor": 2
}
