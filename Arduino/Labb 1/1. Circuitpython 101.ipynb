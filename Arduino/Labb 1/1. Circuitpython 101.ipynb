{
 "cells": [
  {
   "cell_type": "markdown",
   "metadata": {},
   "source": [
    "# Introduktion\n",
    "\n",
    "## Vad är en mikrokontroller?\n",
    "En mikrokontroller kan förklaras som en minidator som kan användas för att styra olika system. Det kan vara allt ifrån lättare projekt (ungefär som vi kommer göra idag) till allt komplicerade på riktiga satelliter uppe i omloppsbana.\n",
    "\n",
    "## Förberdelser\n",
    "\n",
    "### Språket\n",
    "\n",
    "Vi kommer använda oss av Circuitpython. Det är i princip python fast med några extra bibliotek. Det funkar så lätt som att när du kopplar in din arduino till din dator så kommer datorn se den som ett vanligt USB minne där du kan ladda över filer. Lägger du då in en .py fil där så kommer arduinon köra denna. Med hjälp av dessa biblioteken som circuitpython är så kan man få saker att hända t.ex blinka lampor eller läsa data från en sensor. Vi kommer gå mer in på hur språket fungerar och vad man kan göra med det lite senare.\n",
    "\n",
    "### Utvecklingsmiljön\n",
    "\n",
    "Vi kommer använda oss av en utvecklingsmiljö online. Den går att hitta här https://urfdvw.github.io/circuitpython-online-ide-2/. Här kommer vi skriva och ladda upp kod till våra arduinos, kika gärna runt lite och ställ frågor om det är något du inte förstår. Här i notebooken kommer finnas kod exempel som ni kan kopiera över till utvecklingsmiljön för att kunna köra den på arduinon.\n"
   ]
  },
  {
   "cell_type": "markdown",
   "metadata": {},
   "source": [
    "# Lys dioder\n",
    "\n",
    "## Uppgift 1: Få lampan att lysa\n",
    "Material:\n",
    "* Microkontroller\n",
    "* USB-sladd"
   ]
  },
  {
   "cell_type": "markdown",
   "metadata": {
    "editable": true,
    "slideshow": {
     "slide_type": ""
    },
    "tags": []
   },
   "source": [
    "Varje circuitpython program börjar med att man importerar de bibliotek man behöver, i detta fallet kommer vi behöva \"board\" för att kunna prata med mikrokontrollern och \"digitalio\" för att kunna göra saker"
   ]
  },
  {
   "cell_type": "code",
   "execution_count": null,
   "metadata": {},
   "outputs": [],
   "source": [
    "import board\n",
    "import digitalio "
   ]
  },
  {
   "cell_type": "markdown",
   "metadata": {},
   "source": [
    "Efter det så behöver man sätta upp sina pins. Alltså säga vilka pins man ska använda och vad dom ska användas till. Här säger vi att vi vill ha LED pinen som output"
   ]
  },
  {
   "cell_type": "code",
   "execution_count": null,
   "metadata": {},
   "outputs": [],
   "source": [
    "led = digitalio.DigitalInOut(board.LED)\n",
    "led.direction = digitalio.Direction.OUTPUT"
   ]
  },
  {
   "cell_type": "markdown",
   "metadata": {},
   "source": [
    "Efter det kan vi skriva kod som gör saker med pinen vi har satt upp ovan. t.ex tända den."
   ]
  },
  {
   "cell_type": "code",
   "execution_count": null,
   "metadata": {},
   "outputs": [],
   "source": [
    "led.value = True"
   ]
  },
  {
   "cell_type": "markdown",
   "metadata": {},
   "source": [
    "## Uppgift 2: Får lampan att blinka\n",
    "\n",
    "I python finns det något som heter en while loop. Det är en loop som körs medans ett påstående är sant."
   ]
  },
  {
   "cell_type": "code",
   "execution_count": 1,
   "metadata": {},
   "outputs": [
    {
     "name": "stdout",
     "output_type": "stream",
     "text": [
      "0\n",
      "1\n",
      "2\n",
      "3\n",
      "4\n",
      "5\n",
      "6\n",
      "7\n",
      "8\n",
      "9\n"
     ]
    }
   ],
   "source": [
    "x = 0\n",
    "while x < 10:\n",
    "    print(x)\n",
    "    x += 1"
   ]
  },
  {
   "cell_type": "markdown",
   "metadata": {},
   "source": [
    "Dessa går också att använda i circuitpython. Det finns också ett bibliotek som heter time där i finns en funktion som heter sleep som fungerar som en delay. För att få lampan att blinka skulle man kunna använda koden nedan."
   ]
  },
  {
   "cell_type": "code",
   "execution_count": null,
   "metadata": {},
   "outputs": [],
   "source": [
    "import board\n",
    "import digitalio \n",
    "import time\n",
    "\n",
    "led = digitalio.DigitalInOut(board.LED)\n",
    "led.direction = digitalio.Direction.OUTPUT\n",
    "\n",
    "while True:\n",
    "    led.value = True\n",
    "    time.sleep(0.1)\n",
    "    led.value = False\n",
    "    time.sleep(0.1)"
   ]
  },
  {
   "cell_type": "markdown",
   "metadata": {},
   "source": [
    "## Uppgift 3: Få en annan lampa att lysa. \n",
    "\n",
    "Material:\n",
    "* Mikrokontroller\n",
    "* USB-sladd\n",
    "* Kopplingsdeck\n",
    "* 220 $\\Omega$ motstånd\n",
    "* 4 sladdar\n",
    "* LED\n",
    "\n",
    "### Steg 1\n",
    "Börja med att koppla ihop kretsen, se figuren nedan. Extra viktigt att tänka på är att LEDen har ett långt och ett kort ben. Det korta benet ska kopplas till GND (minuspolen / katoden) och det långa benet till er output pin (pluspolen / anoden), se nedan. \n",
    "\n",
    "![schematic](figures/led_schematic.png)"
   ]
  },
  {
   "cell_type": "markdown",
   "metadata": {},
   "source": [
    "### Steg 2:\n",
    "När kretsen är kopplad är det dags att skriva lite kod! Vi börjar med att importera våra bibliotek och sätta upp våra pins. Här använder vi "
   ]
  },
  {
   "cell_type": "code",
   "execution_count": null,
   "metadata": {},
   "outputs": [],
   "source": [
    "import board\n",
    "import digitalio \n",
    "import time\n",
    "\n",
    "led = digitalio.DigitalInOut(board.D9)\n",
    "led.direction = digitalio.Direction.OUTPUT"
   ]
  },
  {
   "cell_type": "markdown",
   "metadata": {},
   "source": [
    "Sedan kan vi precis på samma sätt som med den inbyggda lampa stänga av och på den. Prova själv!"
   ]
  },
  {
   "cell_type": "markdown",
   "metadata": {},
   "source": [
    "## Uppgift 4: Fler lampor??\n",
    "\n",
    "Material:\n",
    "* Mikrokontroller\n",
    "* USB-sladd\n",
    "* 2st LED\n",
    "* 2st 220 $\\Omega$ motstånd\n",
    "* 5st sladdar"
   ]
  },
  {
   "cell_type": "markdown",
   "metadata": {},
   "source": [
    "### Steg 1\n",
    "Börja med att koppla ihop kretsen enligt figuren.\n",
    "\n",
    "![schematic2](figures/2xLed-schematic.png)"
   ]
  },
  {
   "cell_type": "markdown",
   "metadata": {},
   "source": [
    "### Steg 2\n",
    "Prova själv att skriva om koden ni har för att blinka 2st lampor"
   ]
  },
  {
   "cell_type": "markdown",
   "metadata": {},
   "source": [
    "### Steg 3\n",
    "\n",
    "Prova med 3 lampor också"
   ]
  },
  {
   "cell_type": "markdown",
   "metadata": {},
   "source": [
    "## Uppgift 3: Få tre eller fler lampor att blinka i sekvens\n",
    "\n",
    "Material:\n",
    "* Mikrokontroller\n",
    "* USB-sladd\n",
    "* 3st LED\n",
    "* 3st 220 $\\Omega$ motstånd\n",
    "* 7st sladdar\n",
    "\n",
    "### Steg 1\n",
    "Koppla ihop kretsen precis som i förra uppgiften fast nu med 3 lampor istället för två.\n",
    "\n",
    "### Steg 3\n",
    "Skriv lite kod. Här intruducerar vi en ny sorts loop nämligen en for-loop. Dessa gör saker ett förutbestämt antal gånger. I koden nedan kör looparna lika många varv som det finns element i listan leds."
   ]
  },
  {
   "cell_type": "code",
   "execution_count": null,
   "metadata": {},
   "outputs": [],
   "source": [
    "import board\n",
    "import digitalio \n",
    "import time\n",
    "\n",
    "leds = [board.D1, board.D2, board.D3]\n",
    "\n",
    "for i in range(len(leds)): # Här definerar vi alla pins och sätter dom till outputs allihopa\n",
    "    leds[i] = digitalio.DigitalInOut(leds[i])\n",
    "    leds[i].direction = digitalio.Direction.OUTPUT\n",
    "\n",
    "for i in range(len(leds)): # Här sätter vi på lamporna en efter en\n",
    "    leds[i].value = True\n",
    "    time.sleep(0.25)\n",
    "\n",
    "for i in range(len(leds)): # Här stänger vi av lamporna en efter en\n",
    "    leds[i].value = False\n",
    "    time.sleep(0.25)\n"
   ]
  },
  {
   "cell_type": "markdown",
   "metadata": {},
   "source": [
    "### Steg 4\n",
    "Ladda upp koden och se vad som händer"
   ]
  },
  {
   "cell_type": "markdown",
   "metadata": {},
   "source": [
    "## Uppgift 4: Olika ljusstyrkor??\n",
    "\n",
    "Material:\n",
    "* Mikrokontroller\n",
    "* USB-sladd\n",
    "* 3st LED\n",
    "* 3st 220 $\\Omega$ motstånd\n",
    "* 7st sladdar\n",
    "\n",
    "Nu ska vi prova att använda analog output med våra arduinos och få våra lampor att lysa olika mycket.\n",
    "\n",
    "### Steg 1\n",
    "Koppla kretsen precis som i förra uppgiften\n",
    "\n",
    "### Steg 2\n",
    "Skriv lite kod"
   ]
  },
  {
   "cell_type": "code",
   "execution_count": null,
   "metadata": {},
   "outputs": [],
   "source": [
    "import board\n",
    "import pwmio \n",
    "import time\n",
    "import math as m\n",
    "\n",
    "x = 0\n",
    "offset = m.pi/2\n",
    "stretch = 2*m.pi\n",
    "\n",
    "leds = [board.D3, board.D4, board.D5]\n",
    "\n",
    "for i in range(len(leds)): # Här definerar vi alla pins och sätter dom till outputs allihopa\n",
    "    leds[i] = pwmio.PWMOut(leds[i])\n",
    "\n",
    "while True:\n",
    "    for i in range(len(leds)):\n",
    "        leds[i].duty_cycle = int(65535 * m.fabs(m.sin((x + offset*i)/(stretch))))\n",
    "    x += 1\n",
    "    time.sleep(0.1)"
   ]
  },
  {
   "cell_type": "markdown",
   "metadata": {},
   "source": [
    "# Bonus\n",
    "\n",
    "## Uppgift 1: RGB!!!\n",
    "\n",
    "Material:\n",
    "* Mikrokontroller\n",
    "* USB-sladd\n",
    "* 1st RGB-LED\n",
    "* 3st 220 $\\Omega$ motstånd\n",
    "* 5st sladdar\n",
    "\n",
    "### Steg 1\n",
    "\n",
    "Koppla ihop kretsen enligt figuren.\n",
    "\n",
    "<img src=\"figures/RGBschematic.png\" alt=\"drawing\" style=\"width:600px;\"/>\n",
    "\n",
    "Se till att koppla till pins som heter A# för att kunna styra styrkan på de olika färgerna. \n",
    "\n",
    "### Steg 2\n",
    "Definera pins"
   ]
  },
  {
   "cell_type": "code",
   "execution_count": null,
   "metadata": {},
   "outputs": [],
   "source": [
    "redPin = pwmio.PWMOut(board.D2)\n",
    "greenPin = pwmio.PWMOut(board.D3)\n",
    "bluePin = pwmio.PWMOut(board.D4)"
   ]
  },
  {
   "cell_type": "markdown",
   "metadata": {},
   "source": [
    "### Steg 3\n",
    "Nu ska du göra en loop som körs flera gånger. I denna loop kommer vi att använda en funktion setColor, som vi definierar i nästa steg. Med denna funktion kan vi bestämma vilken färg lampan ska lysa och hur länge. Den används på det sättet att man skriver setColor(redValue, greenValue, blueValue) där redValue, greenValue och blueValue ska ersättas med siffror som talar om hur mycket av den färgen vi vill ha. 65535 är det högsta värdet och 0 är det minsta. Så vill vi till exempel ha bara grönt skriver vi (0, 65535, 0). För att sedan hålla kvar färgen ett litet tag så att den inte byter till en annan direkt skriver vi in en tidsfördröjning på 1 sekund. Vi börjar med att definera funktionen:"
   ]
  },
  {
   "cell_type": "code",
   "execution_count": null,
   "metadata": {},
   "outputs": [],
   "source": [
    "def setColour(inputlist):\n",
    "    redPin.duty_cycle = inputlist[0]\n",
    "    greenPin.duty_cycle = inputlist[1]\n",
    "    bluePin.duty_cycle = inputlist[2]"
   ]
  },
  {
   "cell_type": "markdown",
   "metadata": {},
   "source": [
    "Sen skriver vi en loop som kör igenom lite olika färger"
   ]
  },
  {
   "cell_type": "code",
   "execution_count": null,
   "metadata": {},
   "outputs": [],
   "source": [
    "Colours = [[65535,0,0], [0,65535,0], [0,0,65535], [30000,0,15000], [10000,10000,10000]]\n",
    "\n",
    "while True:\n",
    "    for colour in Colours:\n",
    "        setColour(colour)\n",
    "        time.sleep(1)"
   ]
  }
 ],
 "metadata": {
  "kernelspec": {
   "display_name": "Python 3 (ipykernel)",
   "language": "python",
   "name": "python3"
  },
  "language_info": {
   "codemirror_mode": {
    "name": "ipython",
    "version": 3
   },
   "file_extension": ".py",
   "mimetype": "text/x-python",
   "name": "python",
   "nbconvert_exporter": "python",
   "pygments_lexer": "ipython3",
   "version": "3.10.12"
  }
 },
 "nbformat": 4,
 "nbformat_minor": 4
}
