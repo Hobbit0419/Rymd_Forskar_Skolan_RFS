{
 "cells": [
  {
   "cell_type": "markdown",
   "metadata": {
    "vscode": {
     "languageId": "bat"
    }
   },
   "source": [
    "# Introduktion\n",
    "\n",
    "Nu när ni har lite data att titta på så ska ni ju göra det också. Att sitta och stirra på en massa siffror är ju dock inte jätteintrressant. För att göra dataanalys lite enklare så brukar det vara lämpligt att representera sin data visuellt på nått sätt. För den datan vi har här så är en scatter plot lämplig. En scatter plot kan se ut som följande"
   ]
  },
  {
   "cell_type": "code",
   "execution_count": 1,
   "metadata": {},
   "outputs": [
    {
     "data": {
      "text/plain": [
       "<matplotlib.collections.PathCollection at 0x7686cdb06c20>"
      ]
     },
     "execution_count": 1,
     "metadata": {},
     "output_type": "execute_result"
    },
    {
     "data": {
      "image/png": "[encoded data removed]",
      "text/plain": [
       "<Figure size 640x480 with 1 Axes>"
      ]
     },
     "metadata": {},
     "output_type": "display_data"
    }
   ],
   "source": [
    "import numpy as np\n",
    "from matplotlib import pyplot as plt\n",
    "\n",
    "x = np.random.rand(15,1)\n",
    "y = np.random.rand(15,1)\n",
    "\n",
    "plt.scatter(x,y)"
   ]
  },
  {
   "cell_type": "markdown",
   "metadata": {},
   "source": [
    "Här plottar vi 15 punkter med helt slumpmässiga x och y koordinater och helt utan enheter. Er data är en såkallad tidsserie, alltså en parameter mätt över tid. Dessa brukar man visa med tid på x-axeln med ökande tid åt höger och parametern på y-axeln. En sådan tidsserie kan t.ex se ut såhär,"
   ]
  },
  {
   "cell_type": "code",
   "execution_count": 5,
   "metadata": {},
   "outputs": [
    {
     "data": {
      "text/html": [
       "<div>\n",
       "<style scoped>\n",
       "    .dataframe tbody tr th:only-of-type {\n",
       "        vertical-align: middle;\n",
       "    }\n",
       "\n",
       "    .dataframe tbody tr th {\n",
       "        vertical-align: top;\n",
       "    }\n",
       "\n",
       "    .dataframe thead th {\n",
       "        text-align: right;\n",
       "    }\n",
       "</style>\n",
       "<table border=\"1\" class=\"dataframe\">\n",
       "  <thead>\n",
       "    <tr style=\"text-align: right;\">\n",
       "      <th></th>\n",
       "      <th>Datum</th>\n",
       "      <th>Tid (UTC)</th>\n",
       "      <th>Lufttemperatur</th>\n",
       "      <th>Kvalitet</th>\n",
       "    </tr>\n",
       "  </thead>\n",
       "  <tbody>\n",
       "    <tr>\n",
       "      <th>0</th>\n",
       "      <td>2024-06-06</td>\n",
       "      <td>10:00</td>\n",
       "      <td>16.3</td>\n",
       "      <td>G</td>\n",
       "    </tr>\n",
       "    <tr>\n",
       "      <th>1</th>\n",
       "      <td>2024-06-06</td>\n",
       "      <td>11:00</td>\n",
       "      <td>16.7</td>\n",
       "      <td>G</td>\n",
       "    </tr>\n",
       "    <tr>\n",
       "      <th>2</th>\n",
       "      <td>2024-06-06</td>\n",
       "      <td>12:00</td>\n",
       "      <td>16.1</td>\n",
       "      <td>G</td>\n",
       "    </tr>\n",
       "    <tr>\n",
       "      <th>3</th>\n",
       "      <td>2024-06-06</td>\n",
       "      <td>13:00</td>\n",
       "      <td>16.7</td>\n",
       "      <td>G</td>\n",
       "    </tr>\n",
       "    <tr>\n",
       "      <th>4</th>\n",
       "      <td>2024-06-06</td>\n",
       "      <td>14:00</td>\n",
       "      <td>16.7</td>\n",
       "      <td>G</td>\n",
       "    </tr>\n",
       "    <tr>\n",
       "      <th>5</th>\n",
       "      <td>2024-06-06</td>\n",
       "      <td>15:00</td>\n",
       "      <td>16.5</td>\n",
       "      <td>G</td>\n",
       "    </tr>\n",
       "    <tr>\n",
       "      <th>6</th>\n",
       "      <td>2024-06-06</td>\n",
       "      <td>16:00</td>\n",
       "      <td>16.4</td>\n",
       "      <td>G</td>\n",
       "    </tr>\n",
       "    <tr>\n",
       "      <th>7</th>\n",
       "      <td>2024-06-06</td>\n",
       "      <td>17:00</td>\n",
       "      <td>15.6</td>\n",
       "      <td>G</td>\n",
       "    </tr>\n",
       "    <tr>\n",
       "      <th>8</th>\n",
       "      <td>2024-06-06</td>\n",
       "      <td>18:00</td>\n",
       "      <td>15.4</td>\n",
       "      <td>G</td>\n",
       "    </tr>\n",
       "    <tr>\n",
       "      <th>9</th>\n",
       "      <td>2024-06-06</td>\n",
       "      <td>19:00</td>\n",
       "      <td>14.7</td>\n",
       "      <td>G</td>\n",
       "    </tr>\n",
       "    <tr>\n",
       "      <th>10</th>\n",
       "      <td>2024-06-06</td>\n",
       "      <td>20:00</td>\n",
       "      <td>13.1</td>\n",
       "      <td>G</td>\n",
       "    </tr>\n",
       "    <tr>\n",
       "      <th>11</th>\n",
       "      <td>2024-06-06</td>\n",
       "      <td>21:00</td>\n",
       "      <td>12.9</td>\n",
       "      <td>G</td>\n",
       "    </tr>\n",
       "    <tr>\n",
       "      <th>12</th>\n",
       "      <td>2024-06-06</td>\n",
       "      <td>22:00</td>\n",
       "      <td>12.1</td>\n",
       "      <td>G</td>\n",
       "    </tr>\n",
       "    <tr>\n",
       "      <th>13</th>\n",
       "      <td>2024-06-06</td>\n",
       "      <td>23:00</td>\n",
       "      <td>10.1</td>\n",
       "      <td>G</td>\n",
       "    </tr>\n",
       "    <tr>\n",
       "      <th>14</th>\n",
       "      <td>2024-06-07</td>\n",
       "      <td>00:00</td>\n",
       "      <td>9.2</td>\n",
       "      <td>G</td>\n",
       "    </tr>\n",
       "    <tr>\n",
       "      <th>15</th>\n",
       "      <td>2024-06-07</td>\n",
       "      <td>01:00</td>\n",
       "      <td>8.4</td>\n",
       "      <td>G</td>\n",
       "    </tr>\n",
       "    <tr>\n",
       "      <th>16</th>\n",
       "      <td>2024-06-07</td>\n",
       "      <td>02:00</td>\n",
       "      <td>8.0</td>\n",
       "      <td>G</td>\n",
       "    </tr>\n",
       "    <tr>\n",
       "      <th>17</th>\n",
       "      <td>2024-06-07</td>\n",
       "      <td>03:00</td>\n",
       "      <td>8.5</td>\n",
       "      <td>G</td>\n",
       "    </tr>\n",
       "    <tr>\n",
       "      <th>18</th>\n",
       "      <td>2024-06-07</td>\n",
       "      <td>04:00</td>\n",
       "      <td>9.6</td>\n",
       "      <td>G</td>\n",
       "    </tr>\n",
       "    <tr>\n",
       "      <th>19</th>\n",
       "      <td>2024-06-07</td>\n",
       "      <td>05:00</td>\n",
       "      <td>10.8</td>\n",
       "      <td>G</td>\n",
       "    </tr>\n",
       "    <tr>\n",
       "      <th>20</th>\n",
       "      <td>2024-06-07</td>\n",
       "      <td>06:00</td>\n",
       "      <td>12.6</td>\n",
       "      <td>G</td>\n",
       "    </tr>\n",
       "    <tr>\n",
       "      <th>21</th>\n",
       "      <td>2024-06-07</td>\n",
       "      <td>07:00</td>\n",
       "      <td>13.9</td>\n",
       "      <td>G</td>\n",
       "    </tr>\n",
       "    <tr>\n",
       "      <th>22</th>\n",
       "      <td>2024-06-07</td>\n",
       "      <td>08:00</td>\n",
       "      <td>15.4</td>\n",
       "      <td>G</td>\n",
       "    </tr>\n",
       "    <tr>\n",
       "      <th>23</th>\n",
       "      <td>2024-06-07</td>\n",
       "      <td>09:00</td>\n",
       "      <td>16.1</td>\n",
       "      <td>G</td>\n",
       "    </tr>\n",
       "    <tr>\n",
       "      <th>24</th>\n",
       "      <td>2024-06-07</td>\n",
       "      <td>10:00</td>\n",
       "      <td>15.1</td>\n",
       "      <td>G</td>\n",
       "    </tr>\n",
       "  </tbody>\n",
       "</table>\n",
       "</div>"
      ],
      "text/plain": [
       "         Datum Tid (UTC)  Lufttemperatur Kvalitet\n",
       "0   2024-06-06     10:00            16.3        G\n",
       "1   2024-06-06     11:00            16.7        G\n",
       "2   2024-06-06     12:00            16.1        G\n",
       "3   2024-06-06     13:00            16.7        G\n",
       "4   2024-06-06     14:00            16.7        G\n",
       "5   2024-06-06     15:00            16.5        G\n",
       "6   2024-06-06     16:00            16.4        G\n",
       "7   2024-06-06     17:00            15.6        G\n",
       "8   2024-06-06     18:00            15.4        G\n",
       "9   2024-06-06     19:00            14.7        G\n",
       "10  2024-06-06     20:00            13.1        G\n",
       "11  2024-06-06     21:00            12.9        G\n",
       "12  2024-06-06     22:00            12.1        G\n",
       "13  2024-06-06     23:00            10.1        G\n",
       "14  2024-06-07     00:00             9.2        G\n",
       "15  2024-06-07     01:00             8.4        G\n",
       "16  2024-06-07     02:00             8.0        G\n",
       "17  2024-06-07     03:00             8.5        G\n",
       "18  2024-06-07     04:00             9.6        G\n",
       "19  2024-06-07     05:00            10.8        G\n",
       "20  2024-06-07     06:00            12.6        G\n",
       "21  2024-06-07     07:00            13.9        G\n",
       "22  2024-06-07     08:00            15.4        G\n",
       "23  2024-06-07     09:00            16.1        G\n",
       "24  2024-06-07     10:00            15.1        G"
      ]
     },
     "execution_count": 5,
     "metadata": {},
     "output_type": "execute_result"
    }
   ],
   "source": [
    "import numpy as np\n",
    "from matplotlib import pyplot as plt\n",
    "import pandas as pd\n",
    "\n",
    "data = pd.read_csv('exempel.csv', delimiter=';') #Läser in datan\n",
    "xticks = data.iloc[::3, :]['Tid (UTC)']#Fixar till med x-axel markeringarna\n",
    "\n",
    "data #Skriver ut datan som en tabell"
   ]
  },
  {
   "cell_type": "code",
   "execution_count": 6,
   "metadata": {},
   "outputs": [
    {
     "data": {
      "text/plain": [
       "([<matplotlib.axis.XTick at 0x742880babe80>,\n",
       "  <matplotlib.axis.XTick at 0x742880babe50>,\n",
       "  <matplotlib.axis.XTick at 0x742880bab640>,\n",
       "  <matplotlib.axis.XTick at 0x742880100400>,\n",
       "  <matplotlib.axis.XTick at 0x742880100eb0>,\n",
       "  <matplotlib.axis.XTick at 0x742880101960>,\n",
       "  <matplotlib.axis.XTick at 0x742880102410>,\n",
       "  <matplotlib.axis.XTick at 0x7428801013f0>,\n",
       "  <matplotlib.axis.XTick at 0x742880102e30>],\n",
       " [Text(0.0, 0, '10:00'),\n",
       "  Text(3.0, 0, '13:00'),\n",
       "  Text(6.0, 0, '16:00'),\n",
       "  Text(9.0, 0, '19:00'),\n",
       "  Text(12.0, 0, '22:00'),\n",
       "  Text(15.0, 0, '01:00'),\n",
       "  Text(18.0, 0, '04:00'),\n",
       "  Text(21.0, 0, '07:00'),\n",
       "  Text(0.0, 0, '10:00')])"
      ]
     },
     "execution_count": 6,
     "metadata": {},
     "output_type": "execute_result"
    },
    {
     "data": {
      "image/png": "[encoded data removed]",
      "text/plain": [
       "<Figure size 640x480 with 1 Axes>"
      ]
     },
     "metadata": {},
     "output_type": "display_data"
    }
   ],
   "source": [
    "plt.scatter(data['Tid (UTC)'], data['Lufttemperatur'])#Plottar datan\n",
    "plt.xticks(xticks)#Fixar till med x-axel markeringarna"
   ]
  },
  {
   "cell_type": "markdown",
   "metadata": {},
   "source": [
    "Här plottar vi temperaturen under ett dygn i Uppsala. Man kan ganska tydligt här se att det är kallare under natten än på dan. Prova att göra samma sak med er data."
   ]
  }
 ],
 "metadata": {
  "kernelspec": {
   "display_name": "Python 3 (ipykernel)",
   "language": "python",
   "name": "python3"
  },
  "language_info": {
   "codemirror_mode": {
    "name": "ipython",
    "version": 3
   },
   "file_extension": ".py",
   "mimetype": "text/x-python",
   "name": "python",
   "nbconvert_exporter": "python",
   "pygments_lexer": "ipython3",
   "version": "3.10.12"
  }
 },
 "nbformat": 4,
 "nbformat_minor": 4
}
