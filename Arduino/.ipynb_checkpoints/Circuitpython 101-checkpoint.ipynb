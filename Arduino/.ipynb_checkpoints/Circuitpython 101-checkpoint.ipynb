{
 "cells": [
  {
   "cell_type": "markdown",
   "metadata": {},
   "source": [
    "# Introduktion\n",
    "\n",
    "## Vad är en mikrokontroller?\n",
    "En mikrokontroller kan förklaras som en minidator som kan användas för att styra olika system. Det kan vara allt ifrån lättare projekt (ungefär som vi kommer göra idag) till allt komplicerade på riktiga satelliter uppe i omloppsbana.\n",
    "\n",
    "## Förberdelser\n",
    "\n",
    "### Språket\n",
    "\n",
    "Vi kommer använda oss av Circuitpython. Det är i princip python fast med några extra bibliotek. Det funkar så lätt som att när du kopplar in din arduino till din dator så kommer datorn se den som ett vanligt USB minne där du kan ladda över filer. Lägger du då in en .py fil där så kommer arduinon köra denna. Med hjälp av dessa biblioteken som circuitpython är så kan man få saker att hända t.ex blinka lampor eller läsa data från en sensor. Vi kommer gå mer in på hur språket fungerar och vad man kan göra med det lite senare.\n",
    "\n",
    "### Utvecklingsmiljön\n",
    "\n",
    "Vi kommer använda oss av en utvecklingsmiljö online. Den går att hitta här https://urfdvw.github.io/circuitpython-online-ide-2/. Här kommer vi skriva och ladda upp kod till våra arduinos, kika gärna runt lite och ställ frågor om det är något du inte förstår. Här i notebooken kommer finnas kod exempel som ni kan kopiera över till utvecklingsmiljön för att kunna köra den på arduinon.\n"
   ]
  },
  {
   "cell_type": "markdown",
   "metadata": {},
   "source": [
    "# Del A: Lys dioder\n",
    "\n",
    "## Uppgift 1: Få lampan att lysa\n",
    "Material:\n",
    "* Microkontroller\n",
    "* USB-sladd"
   ]
  },
  {
   "cell_type": "markdown",
   "metadata": {
    "editable": true,
    "slideshow": {
     "slide_type": ""
    },
    "tags": []
   },
   "source": [
    "Varje circuitpython program börjar med att man importerar de bibliotek man behöver, i detta fallet kommer vi behöva \"board\" för att kunna prata med mikrokontrollern och \"digitalio\" för att kunna göra saker"
   ]
  },
  {
   "cell_type": "code",
   "execution_count": null,
   "metadata": {},
   "outputs": [],
   "source": [
    "import board\n",
    "import digitalio "
   ]
  },
  {
   "cell_type": "markdown",
   "metadata": {},
   "source": [
    "Efter det så behöver man sätta upp sina pins. Alltså säga vilka pins man ska använda och vad dom ska användas till. Här säger vi att vi vill ha LED pinen som output"
   ]
  },
  {
   "cell_type": "code",
   "execution_count": null,
   "metadata": {},
   "outputs": [],
   "source": [
    "led = digitalio.DigitalInOut(board.LED)\n",
    "led.direction = digitalio.Direction.OUTPUT"
   ]
  },
  {
   "cell_type": "markdown",
   "metadata": {},
   "source": [
    "Efter det kan vi skriva kod som gör saker med pinen vi har satt upp ovan. t.ex tända den."
   ]
  },
  {
   "cell_type": "code",
   "execution_count": null,
   "metadata": {},
   "outputs": [],
   "source": [
    "led.value = True"
   ]
  },
  {
   "cell_type": "markdown",
   "metadata": {},
   "source": [
    "## Uppgift 2: Får lampan att blinka\n",
    "\n",
    "I python finns det något som heter en while loop. Det är en loop som körs medans ett påstående är sant."
   ]
  },
  {
   "cell_type": "code",
   "execution_count": 1,
   "metadata": {},
   "outputs": [
    {
     "name": "stdout",
     "output_type": "stream",
     "text": [
      "0\n",
      "1\n",
      "2\n",
      "3\n",
      "4\n",
      "5\n",
      "6\n",
      "7\n",
      "8\n",
      "9\n"
     ]
    }
   ],
   "source": [
    "x = 0\n",
    "while x < 10:\n",
    "    print(x)\n",
    "    x += 1"
   ]
  },
  {
   "cell_type": "markdown",
   "metadata": {},
   "source": [
    "Dessa går också att använda i circuitpython. Det finns också ett bibliotek som heter time "
   ]
  },
  {
   "cell_type": "code",
   "execution_count": 2,
   "metadata": {
    "editable": true,
    "slideshow": {
     "slide_type": ""
    },
    "tags": [
     "hide-cell"
    ]
   },
   "outputs": [
    {
     "name": "stdout",
     "output_type": "stream",
     "text": [
      "0\n",
      "1\n",
      "2\n",
      "3\n",
      "4\n",
      "5\n",
      "6\n",
      "7\n",
      "8\n",
      "9\n"
     ]
    }
   ],
   "source": [
    "import board\n",
    "import digitalio \n",
    "import time\n",
    "\n",
    "led = digitalio.DigitalInOut(board.LED)\n",
    "led.direction = digitalio.Direction.OUTPUT\n",
    "\n",
    "while True:\n",
    "    led.value = True\n",
    "    time.sleep(0.1)\n",
    "    led.value = False\n",
    "    time.sleep(0.1)"
   ]
  }
 ],
 "metadata": {
  "kernelspec": {
   "display_name": "Python 3 (ipykernel)",
   "language": "python",
   "name": "python3"
  },
  "language_info": {
   "codemirror_mode": {
    "name": "ipython",
    "version": 3
   },
   "file_extension": ".py",
   "mimetype": "text/x-python",
   "name": "python",
   "nbconvert_exporter": "python",
   "pygments_lexer": "ipython3",
   "version": "3.10.12"
  }
 },
 "nbformat": 4,
 "nbformat_minor": 4
}
