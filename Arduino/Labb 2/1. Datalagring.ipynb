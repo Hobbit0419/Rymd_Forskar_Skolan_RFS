{
 "cells": [
  {
   "cell_type": "markdown",
   "metadata": {},
   "source": [
    "# Introduktion\n",
    "Att spara data för att kunna behandla den senare är ganska bra att kunna göra. För vår del innebär det att vi på någotsätt behöver spara den sensor data som vi provade på att plocka fram i förra labben på ett sätt så vi kan flytta den från vår arduino till vår dator. Våra arduinos har inbyggda SD-korts läsare så vi kommer därför använda oss av SD-kort för att spara vår data. \n",
    "\n",
    "## Uppgift 1: Testa SD-kort läsaren\n",
    "\n",
    "För att kunna använda den inbyggda SD-kort läsaren behövs lite kod som ni gärna får försöka förstå men det är inget måste."
   ]
  },
  {
   "cell_type": "code",
   "execution_count": null,
   "metadata": {},
   "outputs": [],
   "source": [
    "#Vi börjar med att importera en hel massa bibliotek\n",
    "import board\n",
    "import busio\n",
    "import digitalio\n",
    "import adafruit_sdcard\n",
    "import storage\n",
    "\n",
    "#Startar SD-kortet\n",
    "spi = busio.SPI(board.SD_SCK, MOSI=board.SD_MOSI, MISO=board.SD_MISO)\n",
    "cs = digitalio.DigitalInOut(board.SD_CS)\n",
    "sdcard = adafruit_sdcard.SDCard(spi, cs)\n",
    "vfs = storage.VfsFat(sdcard)\n",
    "storage.mount(vfs, \"/sd\")\n",
    "\n",
    "with open('/sd/test.txt', 'w') as file:\n",
    "    file.write('Du har skrivit data till ett SD-kort')"
   ]
  },
  {
   "cell_type": "markdown",
   "metadata": {},
   "source": [
    "Prova att köra koden ovan, koppla sedan in SD-kortet i din dator och se till så att filen faktiskt finns där. Prova också att skriva något annat till filen eller prova att döpa filen till nått annat."
   ]
  },
  {
   "cell_type": "markdown",
   "metadata": {},
   "source": [
    "## Mäta och spara data\n",
    "\n",
    "I förra labben lärde ni er att mäta olika typer av värden på olika fenomen. Ni har nu också lärt er hur data kan sparas ned på en fil. Det är nu dags att kombinera dessa två. Det gör vi genom att koppla in accelerometern på samma sätt som i föregående labb. \n",
    "\n",
    "### ADXL345\n",
    "\n",
    "Börja med att koppla ihop sensorn och arduinon enligt tabellen, precis som i förra labben.\n",
    "\n",
    "| Arduino pin | Sensor pin |\n",
    "|-------------|------------|\n",
    "|      GND    |     GND    |\n",
    "|      VCC    |     VCC    |\n",
    "|      SDA    |     SDA    |\n",
    "|      SCL    |     SCL    |\n",
    "\n",
    "Sen behöver vi lite kod.\n"
   ]
  },
  {
   "cell_type": "code",
   "execution_count": null,
   "metadata": {},
   "outputs": [],
   "source": [
    "import time\n",
    "import board\n",
    "import busio\n",
    "import digitalio\n",
    "import adafruit_sdcard\n",
    "import storage\n",
    "import adafruit_adxl34x\n",
    "\n",
    "#Starta sensorn\n",
    "i2c = busio.I2C(board.SCL, board.SDA)\n",
    "accelerometer = adafruit_adxl34x.ADXL345(i2c)\n",
    "\n",
    "#Starta SD-kortet\n",
    "spi = busio.SPI(board.SD_SCK, board.SD_MOSI, board.SD_MISO)\n",
    "cs = digitalio.DigitalInOut(board.SD_CS)\n",
    "sdcard = adafruit_sdcard.SDCard(spi, cs)\n",
    "vfs = storage.VfsFat(sdcard)\n",
    "storage.mount(vfs, \"/sd\")\n",
    "\n",
    "# Skapa och öppna en fil för att spara datan\n",
    "with open(\"/sd/log.txt\", \"a\") as logfile:\n",
    "    while True:\n",
    "\n",
    "        # Läs datan\n",
    "        acceleration = accelerometer.acceleration\n",
    "        x, y, z = acceleration\n",
    "        print(f\"x: {x:.2f}, y: {y:.2f}, z: {z:.2f}\")\n",
    "\n",
    "        # Skriv datan till filen\n",
    "        logfile.write(f\"{time.time()},{x:.2f},{y:.2f},{z:.2f}\\n\")\n",
    "        logfile.flush()\n",
    "\n",
    "        # Fördröjning till nästa mätning\n",
    "        time.sleep(1)\n"
   ]
  },
  {
   "cell_type": "markdown",
   "metadata": {},
   "source": [
    "### DHT11\n",
    "Börja med att koppla in sensorn enligt tabellen, precis som förra gången.\n",
    "\n",
    "| Arduino pin | Sensor pin |\n",
    "|-------------|------------|\n",
    "|      GND    |     GND    |\n",
    "|      VCC    |     VCC    |\n",
    "| Vilken som helst t.ex 2   |   Signal   |\n",
    "\n",
    "Sen behövs lite kod"
   ]
  },
  {
   "cell_type": "code",
   "execution_count": null,
   "metadata": {},
   "outputs": [],
   "source": [
    "import time\n",
    "import board\n",
    "import busio\n",
    "import digitalio\n",
    "import adafruit_sdcard\n",
    "import storage\n",
    "import adafruit_dht\n",
    "\n",
    "# Starta sensorn\n",
    "dht_device = adafruit_dht.DHT11(board.D2)\n",
    "\n",
    "# Starta SD-kortet\n",
    "spi = busio.SPI(board.SD_SCK, board.SD_MOSI, board.SD_MISO)\n",
    "cs = digitalio.DigitalInOut(board.SD_CS)\n",
    "sdcard = adafruit_sdcard.SDCard(spi, cs)\n",
    "vfs = storage.VfsFat(sdcard)\n",
    "storage.mount(vfs, \"/sd\")\n",
    "\n",
    "#Skapar och/eller öppnar en fil log.txt på SD-kortet\n",
    "with open(\"/sd/log.txt\", \"a\") as logfile:\n",
    "    while True:\n",
    "        try:\n",
    "            #Läs datan\n",
    "            temperature = dht_device.temperature\n",
    "            humidity = dht_device.humidity\n",
    "            print(f\"Temperature: {temperature:.1f} C, Humidity: {humidity:.1f} %\")\n",
    "\n",
    "            #Skriv till filen\n",
    "            logfile.write(f\"{time.time()},{temperature:.1f},{humidity:.1f}\\n\")\n",
    "            logfile.flush()  # Ensure data is written to the file\n",
    "\n",
    "        except RuntimeError as error: #DHT11 sensorn är ganska opålitlig så för att koden inte ska sluta köra bara för att den inte råkar funka en cykel behövs denna koden\n",
    "            print(error.args[0])\n",
    "\n",
    "        #Fördröjning till nästa mätning\n",
    "        time.sleep(2)\n"
   ]
  },
  {
   "cell_type": "markdown",
   "metadata": {},
   "source": [
    "Nu när vi vet hur vi skriver data till SD-kort behöver vi lära oss hur vi lagrar datan så den är lätt att använda senare. Det finns en gyllene standarda som används överallt som kallas CSV filer. CSV står för comma separated values. Det är alltså en filtyp som innehåller värden separerade med kommatecken. Titta på exempel filen och se hur den ser ut. Längst upp i filen finns en header, där hittar vi namnen på kolumnerna som följer. I en CSV fil är headern inte ett måste men är ganska trevligt att ha för att hålla koll på sin data. Anledningen till att man använder CSV filer är för att dom är mycket enkla att läsa av senare som ni kommer se i nästa del av labben. \n",
    "\n",
    "I nästa del av labben ska ni använda python för att skapa lite grafer med data ni samlat in. Så nu ska vi fixa lite data. Först ska ni få lite kod för att skriva data till CSV filer. Nedan följer ett exepel för DHT11 sensorn men ni kan modifiera koden för att skriva vilken data som helst."
   ]
  },
  {
   "cell_type": "code",
   "execution_count": null,
   "metadata": {},
   "outputs": [],
   "source": [
    "import csv #python bibliotek för att skapa, skriva och hantera csv filer\n",
    "\n",
    "with open(\"/sd/log.csv\", \"a\", newline='') as logfile: #Skapa och/eller öppna filen log.csv på SD-kortet\n",
    "    fieldnames = [\"timestamp\", \"temperature\", \"humidity\"] #Här skriver vi vilka kolumn namn vi vill ha\n",
    "    writer = csv.DictWriter(logfile, fieldnames=fieldnames) #Skapar ett skrivar objekt så vi kan skriva till filen\n",
    "    \n",
    "    \n",
    "    if logfile.tell() == 0: #Kollar om det finns en header i filen redan\n",
    "        writer.writeheader() #Skriver headern till filen om det inte finns en\n",
    "\n",
    "    while True:\n",
    "        try:\n",
    "            # Läser data från sensorn\n",
    "            temperature = dht_device.temperature\n",
    "            humidity = dht_device.humidity\n",
    "            print(f\"Temperature: {temperature:.1f} C, Humidity: {humidity:.1f} %\")#Skriver ut datan i serial-monitorn\n",
    "\n",
    "            #Skriver datan till csv filen\n",
    "            writer.writerow({\"timestamp\": time.time(), \"temperature\": temperature, \"humidity\": humidity})\n",
    "            logfile.flush()\n",
    "\n",
    "        except RuntimeError as error:\n",
    "            print(error.args[0])\n",
    "\n",
    "        # Delay before next reading\n",
    "        time.sleep(2)"
   ]
  },
  {
   "cell_type": "markdown",
   "metadata": {},
   "source": [
    "Nu när vi kan skriva data till csv filer kan vi skapa lite rolig data att plotta. Så välj en sensor och lite aktiviteter att göra med sensor som kan ge intressanta utslag på en graf. Genomför era roliga aktiviteter överför datan från SD-kortet till er dator och ladda upp det på er jupyternotebook och hoppa till nästa notebook."
   ]
  }
 ],
 "metadata": {
  "kernelspec": {
   "display_name": ".venv",
   "language": "python",
   "name": "python3"
  },
  "language_info": {
   "codemirror_mode": {
    "name": "ipython",
    "version": 3
   },
   "file_extension": ".py",
   "mimetype": "text/x-python",
   "name": "python",
   "nbconvert_exporter": "python",
   "pygments_lexer": "ipython3",
   "version": "3.10.12"
  }
 },
 "nbformat": 4,
 "nbformat_minor": 2
}
